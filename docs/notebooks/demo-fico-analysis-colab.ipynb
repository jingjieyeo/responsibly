{
 "cells": [
  {
   "cell_type": "markdown",
   "metadata": {},
   "source": [
    "# Demo - Fairness Analysis of FICO\n",
    "\n",
    "Adapted version of:\n",
    "\n",
    "1. Fairness and machine learning book - [Chapter 2](https://fairmlbook.org/demographic.html) and [code repository](https://github.com/fairmlbook/fairmlbook.github.io).\n",
    "\n",
    "2. Hardt, M., Price, E., & Srebro, N. (2016). [Equality of opportunity in supervised learning](https://arxiv.org/abs/1610.02413). In Advances in neural information processing systems (pp. 3315-3323).\n",
    "\n",
    "3. [Attacking discrimination with smarter machine learning](https://research.google.com/bigpicture/attacking-discrimination-in-ml/) by Google"
   ]
  },
  {
   "cell_type": "markdown",
   "metadata": {},
   "source": [
    "From [Wikipedia](https://en.wikipedia.org/wiki/Credit_score_in_the_United_States):\n",
    "> Credit score in the United States is a number representing the creditworthiness of a person, the likelihood that person will pay his or her debts.  \n",
    "Lenders, such as banks and credit card companies, use credit scores to evaluate the potential risk posed by lending money to consumers. Lenders allege that widespread use of credit scores has made credit more widely available and less expensive for many consumers\n",
    "\n",
    "\n",
    "The analysis is based on data from [Report to the Congress on Credit Scoring and Its Effects on the Availability and Affordability of Credit](https://federalreserve.gov/boarddocs/rptcongress/creditscore/) by the Federal Reserve. The data set provides aggregate statistics from 2003 about a credit score, demographic information (race or ethnicity, gender, marital status), and outcomes (to be defined shortly). \n",
    "\n",
    "\n",
    "In the USA there are three major credit agencies, which are for-profit organizations. They offer risk score based on the data they collected. We are going to look into **FICO** score of TransUnion (called TransRisk). The TransRisk score is in turn based on a proprietary model created by FICO, hence often referred to as FICO scores. \n",
    "\n",
    "\n",
    "![Factors contributing to someone's credit score](https://upload.wikimedia.org/wikipedia/commons/thumb/7/74/Credit-score-chart.svg/640px-Credit-score-chart.svg.png)\n",
    "<small>Source: Wikipedia</small>\n",
    "\n",
    "\n",
    "From Fairness and Machine Learning - Limitations and Opportunities:\n",
    "> Regulation of credit agencies in the United States started with the Fair Credit Reporting Act, first passed in 1970, that aims to promote the accuracy, fairness, and privacy of consumer of information collected by the reporting agencies. The Equal Credit Opportunity Act, a United States law enacted in 1974, makes it unlawful for any creditor to discriminate against any applicant the basis of race, color, religion, national origin, sex, marital status, or age.\n",
    "\n",
    "### In our analysis we'll use on the joint statistics of score, race, and outcome."
   ]
  },
  {
   "cell_type": "code",
   "execution_count": null,
   "metadata": {},
   "outputs": [],
   "source": [
    "!pip install responsibly\n",
    "import pandas as pd\n",
    "import matplotlib.pylab as plt\n",
    "\n",
    "from responsibly.fairness.metrics import plot_roc_curves\n",
    "from responsibly.fairness.interventions.threshold import (find_thresholds,\n",
    "                                                          plot_fpt_tpr,\n",
    "                                                          plot_roc_curves_thresholds,\n",
    "                                                          plot_costs,\n",
    "                                                          plot_thresholds)"
   ]
  },
  {
   "cell_type": "markdown",
   "metadata": {},
   "source": [
    "### FICO Dataset\n",
    "\n",
    "FICO dataset can be loaded directly from `responsibly`. The dataset, in this case, is *aggregated*, i.e., there is no outcome and prediction information per individual, but summarized statistics for each FICO score and race/race/ethnicity group."
   ]
  },
  {
   "cell_type": "code",
   "execution_count": null,
   "metadata": {},
   "outputs": [],
   "source": [
    "from responsibly.dataset import build_FICO_dataset\n",
    "\n",
    "FICO = build_FICO_dataset()"
   ]
  },
  {
   "cell_type": "markdown",
   "metadata": {},
   "source": [
    "`FICO` is a dictionary that holds variaty of data:"
   ]
  },
  {
   "cell_type": "code",
   "execution_count": null,
   "metadata": {},
   "outputs": [],
   "source": [
    "FICO.keys()"
   ]
  },
  {
   "cell_type": "code",
   "execution_count": null,
   "metadata": {},
   "outputs": [],
   "source": [
    "help(build_FICO_dataset)"
   ]
  },
  {
   "cell_type": "markdown",
   "metadata": {},
   "source": [
    "### Counts by Race or Ethnicity"
   ]
  },
  {
   "cell_type": "code",
   "execution_count": null,
   "metadata": {},
   "outputs": [],
   "source": [
    "sum(FICO['totals'].values())"
   ]
  },
  {
   "cell_type": "code",
   "execution_count": null,
   "metadata": {},
   "outputs": [],
   "source": [
    "pd.Series(FICO['totals']).plot(kind='barh', color=['b', 'r', 'g', 'y', 'k']);"
   ]
  },
  {
   "cell_type": "markdown",
   "metadata": {},
   "source": [
    "### Score Distribution\n",
    "\n",
    "The score used in the study is based on the TransUnion TransRisk score. TransUnion is a US credit-reporting agency. The TransRisk score is in turn based on a proprietary model created by FICO, hence often referred to as FICO scores. The Federal Reserve renormalized the scores for the study to vary from 0 to 100, with 0 being least creditworthy.\n",
    "\n",
    "The information on race was provided by the Social Security Administration, thus relying on self-reported values.\n",
    "\n",
    "The cumulative distribution of these credit scores strongly depends on the group as the next figure reveals."
   ]
  },
  {
   "cell_type": "code",
   "execution_count": null,
   "metadata": {},
   "outputs": [],
   "source": [
    "FICO['cdf'].head()"
   ]
  },
  {
   "cell_type": "code",
   "execution_count": null,
   "metadata": {},
   "outputs": [],
   "source": [
    "FICO['cdf'].tail()"
   ]
  },
  {
   "cell_type": "code",
   "execution_count": null,
   "metadata": {},
   "outputs": [],
   "source": [
    "f, ax = plt.subplots(1, figsize=(7, 5))\n",
    "\n",
    "FICO['cdf'].plot(ax=ax, color=['b', 'r', 'g', 'y', 'k'])\n",
    "\n",
    "plt.title('CDF by Group')\n",
    "plt.ylabel('Cumulative Probability');"
   ]
  },
  {
   "cell_type": "markdown",
   "metadata": {},
   "source": [
    "### Outcome Variable\n",
    "\n",
    "**Performance variable** that measures a serious delinquency in at least one credit line of a certain time period:\n",
    "\n",
    "> \"(the) measure is based on the performance of new or existing accounts and measures whether individuals have been late 90 days or more on one or more of their accounts or had a public record item or a new collection agency account during the performance period.\" - *from the Federal Reserve report*\n",
    "\n",
    "The `FICO['performance']` holds the percentage of *non-defaulters* for every score value (rows) and race/ethnicity group (columns):"
   ]
  },
  {
   "cell_type": "code",
   "execution_count": null,
   "metadata": {},
   "outputs": [],
   "source": [
    "FICO['performance'].head()"
   ]
  },
  {
   "cell_type": "code",
   "execution_count": null,
   "metadata": {},
   "outputs": [],
   "source": [
    "FICO['performance'].tail()"
   ]
  },
  {
   "cell_type": "markdown",
   "metadata": {},
   "source": [
    "### Separation Fairness Criterion\n",
    "By the separation criterion of a binary classifier, the *False Positive Rate (FPR)* and *True Positive Rate (TPR)* should be equal across the groups. The meaning of true positive rate is the rate of predicted positive performance given positive performance. Similarly, false positive rate is the rate of predicted negative performance given a positive performance.\n",
    "\n",
    "Here, the TPR is the fraction of non-defaulters getting a loan, and the FPR is the fraction of defaulters getting a loan."
   ]
  },
  {
   "cell_type": "code",
   "execution_count": null,
   "metadata": {},
   "outputs": [],
   "source": [
    "plot_roc_curves(FICO['rocs'], FICO['aucs'],\n",
    "                figsize=(7, 5));"
   ]
  },
  {
   "cell_type": "code",
   "execution_count": null,
   "metadata": {},
   "outputs": [],
   "source": [
    "plot_roc_curves(FICO['rocs'], FICO['aucs'],\n",
    "                figsize=(7, 5));\n",
    "\n",
    "plt.xlim(0, 0.3)\n",
    "plt.ylim(0.4, 1);"
   ]
  },
  {
   "cell_type": "markdown",
   "metadata": {},
   "source": [
    "### Thresholds vs. FPR and TPR\n",
    "\n",
    "The ROC is parameterized over the threshold, so the same threshold might be related to different (FPR, TPR) pairs for each group. We can observe it by plotting the FPR and the TPR as a function of the threshold by the groups."
   ]
  },
  {
   "cell_type": "code",
   "execution_count": null,
   "metadata": {},
   "outputs": [],
   "source": [
    "plot_fpt_tpr(FICO['rocs'], figsize=(15, 7),\n",
    "             title_fontsize=15, text_fontsize=15);"
   ]
  },
  {
   "cell_type": "markdown",
   "metadata": {},
   "source": [
    "Therefore, a naive choice of a single threshold will violate the separation fairness criterion, as there will be differences in FPR and TPR between the groups."
   ]
  },
  {
   "cell_type": "markdown",
   "metadata": {},
   "source": [
    "### Comparison of Different Criteria\n",
    "\n",
    "* Single threshold (Group Unaware)\n",
    "* Minimum Cost\n",
    "* Independence (Demographic Parity, i.e. equal acceptance rate in all groups)\n",
    "* FNR (Equality of opportunity)\n",
    "* Separation (Equalized odds, i.e. equal TPR and FPR in all groups)\n",
    "\n",
    "In making loans, the interest earned from a loan (the reward) is many times smaller than losing the loan amount during defaults (the cost). Assuming the cost is 5 times greater than the reward, we can define a cost matrix:\n",
    "#### Cost: $FP = - 5 \\cdot TP$"
   ]
  },
  {
   "cell_type": "code",
   "execution_count": null,
   "metadata": {},
   "outputs": [],
   "source": [
    "COST_MATRIX = [[0, -5/6],\n",
    "               [0,  1/6]]"
   ]
  },
  {
   "cell_type": "code",
   "execution_count": null,
   "metadata": {},
   "outputs": [],
   "source": [
    "thresholds_data = find_thresholds(FICO['rocs'],\n",
    "                                  FICO['proportions'],\n",
    "                                  FICO['base_rate'],\n",
    "                                  FICO['base_rates'],\n",
    "                                  COST_MATRIX)"
   ]
  },
  {
   "cell_type": "code",
   "execution_count": null,
   "metadata": {},
   "outputs": [],
   "source": [
    "plot_roc_curves_thresholds(FICO['rocs'], thresholds_data,\n",
    "                           figsize=(7, 7),\n",
    "                           title_fontsize=20, text_fontsize=15);"
   ]
  },
  {
   "cell_type": "code",
   "execution_count": null,
   "metadata": {},
   "outputs": [],
   "source": [
    "plot_roc_curves_thresholds(FICO['rocs'], thresholds_data,\n",
    "                           figsize=(7, 7),\n",
    "                           title_fontsize=20, text_fontsize=15)\n",
    "\n",
    "plt.xlim(0, 0.3)\n",
    "plt.ylim(0.4, 1);"
   ]
  },
  {
   "cell_type": "markdown",
   "metadata": {},
   "source": [
    "### Thresholds by Strategy and Group"
   ]
  },
  {
   "cell_type": "code",
   "execution_count": null,
   "metadata": {},
   "outputs": [],
   "source": [
    "plot_thresholds(thresholds_data,\n",
    "                xlim=(0, 100), figsize=(7, 7),\n",
    "                title_fontsize=20, text_fontsize=15);"
   ]
  },
  {
   "cell_type": "markdown",
   "metadata": {},
   "source": [
    "### Cost by Threshold Strategy"
   ]
  },
  {
   "cell_type": "code",
   "execution_count": null,
   "metadata": {},
   "outputs": [],
   "source": [
    "plot_costs(thresholds_data);"
   ]
  },
  {
   "cell_type": "markdown",
   "metadata": {},
   "source": [
    "### Sufficiency Fairness Criterion - Calibration"
   ]
  },
  {
   "cell_type": "code",
   "execution_count": null,
   "metadata": {},
   "outputs": [],
   "source": [
    "f, axes = plt.subplots(nrows=1, ncols=2, figsize=(20, 10))\n",
    "\n",
    "FICO['performance'].plot(ax=axes[0])\n",
    "axes[0].set_ylabel('Non-default rate')\n",
    "\n",
    "for group in FICO['cdf'].columns:\n",
    "    axes[1].plot(FICO['cdf'][group], FICO['performance'][group],\n",
    "             label=group)\n",
    "    \n",
    "axes[1].set_ylabel('Non-default rate')\n",
    "axes[1].set_xlabel('Score')\n",
    "axes[1].legend();"
   ]
  },
  {
   "cell_type": "markdown",
   "metadata": {},
   "source": [
    "Due to the differences in score distribution by group, it could nonetheless be the case that thresholding the score leads to a classifier with different positive predictive values in each group."
   ]
  }
 ],
 "metadata": {
  "kernel_info": {
   "name": "python3"
  },
  "kernelspec": {
   "display_name": "Python 3 (ipykernel)",
   "language": "python",
   "name": "python3"
  },
  "language_info": {
   "codemirror_mode": {
    "name": "ipython",
    "version": 3
   },
   "file_extension": ".py",
   "mimetype": "text/x-python",
   "name": "python",
   "nbconvert_exporter": "python",
   "pygments_lexer": "ipython3",
   "version": "3.7.12"
  }
 },
 "nbformat": 4,
 "nbformat_minor": 1
}
